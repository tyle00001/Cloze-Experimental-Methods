{
 "cells": [
  {
   "cell_type": "markdown",
   "id": "68275e07",
   "metadata": {},
   "source": [
    "#### This brilliantly-named file is just for setting up the .xslx spreadsheet that we'll use for all the manual preprocessing."
   ]
  },
  {
   "cell_type": "code",
   "execution_count": 1,
   "id": "3b3ab9e6",
   "metadata": {},
   "outputs": [],
   "source": [
    "import pandas as pd"
   ]
  },
  {
   "cell_type": "code",
   "execution_count": 19,
   "id": "aaae11a1",
   "metadata": {},
   "outputs": [
    {
     "name": "stderr",
     "output_type": "stream",
     "text": [
      "/var/folders/6g/v4dn3hc95x1cy5j6qz2c4t6r0000gn/T/ipykernel_34195/2441633118.py:6: SettingWithCopyWarning: \n",
      "A value is trying to be set on a copy of a slice from a DataFrame.\n",
      "Try using .loc[row_indexer,col_indexer] = value instead\n",
      "\n",
      "See the caveats in the documentation: https://pandas.pydata.org/pandas-docs/stable/user_guide/indexing.html#returning-a-view-versus-a-copy\n",
      "  prepreprocessed['Changed_Value'] = ''\n",
      "/var/folders/6g/v4dn3hc95x1cy5j6qz2c4t6r0000gn/T/ipykernel_34195/2441633118.py:7: SettingWithCopyWarning: \n",
      "A value is trying to be set on a copy of a slice from a DataFrame.\n",
      "Try using .loc[row_indexer,col_indexer] = value instead\n",
      "\n",
      "See the caveats in the documentation: https://pandas.pydata.org/pandas-docs/stable/user_guide/indexing.html#returning-a-view-versus-a-copy\n",
      "  prepreprocessed['IsQuestionable'] = False\n"
     ]
    }
   ],
   "source": [
    "data = pd.read_csv('../data/experimental_data.csv')\n",
    "completions = data[(data['PennElementName'] == 'BlankAnswer') & (data['Parameter'] == 'Final')]\n",
    "completions = completions.reset_index()\n",
    "completions = completions.rename(columns={'index':'ID','Value':'Original_Value'})\n",
    "prepreprocessed = completions[['ID',\"MD5 hash of participant's IP address\",'Item','Condition','Original_Value']]\n",
    "prepreprocessed['Changed_Value'] = ''\n",
    "prepreprocessed['IsQuestionable'] = False"
   ]
  },
  {
   "cell_type": "code",
   "execution_count": 22,
   "id": "7a0d5bc7",
   "metadata": {},
   "outputs": [],
   "source": [
    "prepreprocessed.to_excel('StimuliReview.xlsx')"
   ]
  }
 ],
 "metadata": {
  "kernelspec": {
   "display_name": "Python 3 (ipykernel)",
   "language": "python",
   "name": "python3"
  },
  "language_info": {
   "codemirror_mode": {
    "name": "ipython",
    "version": 3
   },
   "file_extension": ".py",
   "mimetype": "text/x-python",
   "name": "python",
   "nbconvert_exporter": "python",
   "pygments_lexer": "ipython3",
   "version": "3.9.13"
  }
 },
 "nbformat": 4,
 "nbformat_minor": 5
}
