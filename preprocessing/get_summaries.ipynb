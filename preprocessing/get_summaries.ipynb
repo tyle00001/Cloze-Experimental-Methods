{
 "cells": [
  {
   "cell_type": "code",
   "execution_count": 83,
   "id": "bb4394da",
   "metadata": {},
   "outputs": [],
   "source": [
    "import pandas as pd\n",
    "import scipy as sp\n",
    "import numpy as np"
   ]
  },
  {
   "cell_type": "code",
   "execution_count": 58,
   "id": "152e4e60",
   "metadata": {},
   "outputs": [],
   "source": [
    "EXPORT_DIRECTORY = '../preprocessing/data_review'"
   ]
  },
  {
   "cell_type": "code",
   "execution_count": 59,
   "id": "c96a624e",
   "metadata": {},
   "outputs": [],
   "source": [
    "# read the experimental data\n",
    "data = pd.read_csv('../data/experimental_data.csv')"
   ]
  },
  {
   "cell_type": "markdown",
   "id": "6817ee6d",
   "metadata": {},
   "source": [
    "# Get the accuracies by subject"
   ]
  },
  {
   "cell_type": "code",
   "execution_count": 60,
   "id": "e9d86c45",
   "metadata": {},
   "outputs": [
    {
     "name": "stdout",
     "output_type": "stream",
     "text": [
      "{6, 7, 8, 13, 16, 17, 19, 20, 22, 23, 25, 26, 27, 28, 29, 30, 35, 37, 39, 40, 41, 43, 44, 45, 46, 47, 48, 50, 51, 53, 54, 55, 58, 59, 61, 62, 63, 64, 66, 67, 68, 69, 71, 72, 73, 75, 77, 78}\n",
      "48\n"
     ]
    }
   ],
   "source": [
    "# get the correct answers from stimulus list\n",
    "stimuli = pd.read_csv('../stimuli/Stimuli(Sheet1).csv',sep=';')\n",
    "has_comprehension_q = stimuli[~(stimuli['Question'].isnull())]\n",
    "q_answers = has_comprehension_q[['Item','Condition','QuestionCorrect']]\n",
    "q_answers = q_answers.set_index(['Item','Condition'])\n",
    "q_answers = q_answers.replace({\n",
    "    'Yes':True,\n",
    "    'No':False\n",
    "})\n",
    "\n",
    "# also get which items actually have comprehension questions\n",
    "items_w_qs = set([index[0] for index in q_answers.index])\n",
    "print(items_w_qs)\n",
    "\n",
    "# number of items with comprehension questions\n",
    "print(len(items_w_qs))"
   ]
  },
  {
   "cell_type": "code",
   "execution_count": 61,
   "id": "c6729d34",
   "metadata": {},
   "outputs": [],
   "source": [
    "#get the responses of each participant to comprehension questions\n",
    "comp_resp = data[data['PennElementName'] == 'ComprehensionDecide']\n",
    "comp_resp = comp_resp[comp_resp['Item'].isin(items_w_qs)]\n",
    "comp_resp = comp_resp[[\"MD5 hash of participant's IP address\",'Item','Condition','Value']]\n",
    "comp_resp = comp_resp.set_index(['Item','Condition'])\n",
    "comp_resp['Value'] = comp_resp['Value'].replace({\n",
    "    'K':True,\n",
    "    'D':False\n",
    "})"
   ]
  },
  {
   "cell_type": "code",
   "execution_count": 76,
   "id": "37617b01",
   "metadata": {},
   "outputs": [],
   "source": [
    "check = pd.merge(comp_resp,q_answers, left_index=True, right_index=True)\n",
    "check['SubjectCorrect'] = (check['Value'] == check['QuestionCorrect'])\n",
    "subject_check = check.groupby(\"MD5 hash of participant's IP address\").mean('QuestionCorrect')\n",
    "subject_check = subject_check[['Value','SubjectCorrect']]\n",
    "subject_check.columns = ['PercentageYes','SubjectCorrect']"
   ]
  },
  {
   "cell_type": "code",
   "execution_count": 63,
   "id": "75bbc345",
   "metadata": {},
   "outputs": [],
   "source": [
    "# write results to file\n",
    "subject_check.to_csv(f'{EXPORT_DIRECTORY}/accuracy_by_subject.csv')"
   ]
  },
  {
   "cell_type": "code",
   "execution_count": 77,
   "id": "8878e02f",
   "metadata": {},
   "outputs": [
    {
     "name": "stdout",
     "output_type": "stream",
     "text": [
      "0.8375\n",
      "0.08828490893804462\n"
     ]
    }
   ],
   "source": [
    "# also get the mean accuracy and standard deviation\n",
    "print(subject_check['SubjectCorrect'].mean())\n",
    "print(subject_check['SubjectCorrect'].std())"
   ]
  },
  {
   "cell_type": "markdown",
   "id": "ec648f28",
   "metadata": {},
   "source": [
    "# Get accuracies by condition"
   ]
  },
  {
   "cell_type": "code",
   "execution_count": 88,
   "id": "660b9f69",
   "metadata": {},
   "outputs": [
    {
     "data": {
      "text/html": [
       "<div>\n",
       "<style scoped>\n",
       "    .dataframe tbody tr th:only-of-type {\n",
       "        vertical-align: middle;\n",
       "    }\n",
       "\n",
       "    .dataframe tbody tr th {\n",
       "        vertical-align: top;\n",
       "    }\n",
       "\n",
       "    .dataframe thead tr th {\n",
       "        text-align: left;\n",
       "    }\n",
       "\n",
       "    .dataframe thead tr:last-of-type th {\n",
       "        text-align: right;\n",
       "    }\n",
       "</style>\n",
       "<table border=\"1\" class=\"dataframe\">\n",
       "  <thead>\n",
       "    <tr>\n",
       "      <th></th>\n",
       "      <th colspan=\"3\" halign=\"left\">SubjectCorrect</th>\n",
       "    </tr>\n",
       "    <tr>\n",
       "      <th></th>\n",
       "      <th>mean</th>\n",
       "      <th>std</th>\n",
       "      <th>sum</th>\n",
       "    </tr>\n",
       "    <tr>\n",
       "      <th>Condition</th>\n",
       "      <th></th>\n",
       "      <th></th>\n",
       "      <th></th>\n",
       "    </tr>\n",
       "  </thead>\n",
       "  <tbody>\n",
       "    <tr>\n",
       "      <th>A</th>\n",
       "      <td>0.850000</td>\n",
       "      <td>0.357818</td>\n",
       "      <td>204</td>\n",
       "    </tr>\n",
       "    <tr>\n",
       "      <th>B</th>\n",
       "      <td>0.831325</td>\n",
       "      <td>0.375219</td>\n",
       "      <td>207</td>\n",
       "    </tr>\n",
       "    <tr>\n",
       "      <th>C</th>\n",
       "      <td>0.816239</td>\n",
       "      <td>0.388119</td>\n",
       "      <td>191</td>\n",
       "    </tr>\n",
       "    <tr>\n",
       "      <th>D</th>\n",
       "      <td>0.852321</td>\n",
       "      <td>0.355533</td>\n",
       "      <td>202</td>\n",
       "    </tr>\n",
       "  </tbody>\n",
       "</table>\n",
       "</div>"
      ],
      "text/plain": [
       "          SubjectCorrect               \n",
       "                    mean       std  sum\n",
       "Condition                              \n",
       "A               0.850000  0.357818  204\n",
       "B               0.831325  0.375219  207\n",
       "C               0.816239  0.388119  191\n",
       "D               0.852321  0.355533  202"
      ]
     },
     "execution_count": 88,
     "metadata": {},
     "output_type": "execute_result"
    }
   ],
   "source": [
    "table = check.reset_index().groupby('Condition').agg({'SubjectCorrect':['mean','std','sum']})\n",
    "table"
   ]
  },
  {
   "cell_type": "code",
   "execution_count": 97,
   "id": "2b6c036b",
   "metadata": {},
   "outputs": [],
   "source": [
    "export_data = check.drop(['Value','QuestionCorrect'], axis=1) # to do glmer, we need R, not Python\n",
    "export_data.to_csv(f'{EXPORT_DIRECTORY}/accuracy_data.csv')"
   ]
  },
  {
   "cell_type": "markdown",
   "id": "3a85cf3c",
   "metadata": {},
   "source": [
    "# Get completions by subject"
   ]
  },
  {
   "cell_type": "code",
   "execution_count": 170,
   "id": "7e9a7669",
   "metadata": {},
   "outputs": [
    {
     "data": {
      "text/html": [
       "<div>\n",
       "<style scoped>\n",
       "    .dataframe tbody tr th:only-of-type {\n",
       "        vertical-align: middle;\n",
       "    }\n",
       "\n",
       "    .dataframe tbody tr th {\n",
       "        vertical-align: top;\n",
       "    }\n",
       "\n",
       "    .dataframe thead th {\n",
       "        text-align: right;\n",
       "    }\n",
       "</style>\n",
       "<table border=\"1\" class=\"dataframe\">\n",
       "  <thead>\n",
       "    <tr style=\"text-align: right;\">\n",
       "      <th></th>\n",
       "      <th>MD5 hash of participant's IP address</th>\n",
       "      <th>Value</th>\n",
       "      <th>Item</th>\n",
       "      <th>Condition</th>\n",
       "    </tr>\n",
       "  </thead>\n",
       "  <tbody>\n",
       "    <tr>\n",
       "      <th>7</th>\n",
       "      <td>b8b10c5c32c46a8f278dc868ef65fd9d</td>\n",
       "      <td>drive</td>\n",
       "      <td>24</td>\n",
       "      <td>D</td>\n",
       "    </tr>\n",
       "    <tr>\n",
       "      <th>18</th>\n",
       "      <td>b8b10c5c32c46a8f278dc868ef65fd9d</td>\n",
       "      <td>cut it</td>\n",
       "      <td>78</td>\n",
       "      <td>B</td>\n",
       "    </tr>\n",
       "    <tr>\n",
       "      <th>29</th>\n",
       "      <td>b8b10c5c32c46a8f278dc868ef65fd9d</td>\n",
       "      <td>leave</td>\n",
       "      <td>17</td>\n",
       "      <td>C</td>\n",
       "    </tr>\n",
       "    <tr>\n",
       "      <th>38</th>\n",
       "      <td>b8b10c5c32c46a8f278dc868ef65fd9d</td>\n",
       "      <td>pour</td>\n",
       "      <td>34</td>\n",
       "      <td>B</td>\n",
       "    </tr>\n",
       "    <tr>\n",
       "      <th>49</th>\n",
       "      <td>b8b10c5c32c46a8f278dc868ef65fd9d</td>\n",
       "      <td>scavenge</td>\n",
       "      <td>44</td>\n",
       "      <td>D</td>\n",
       "    </tr>\n",
       "    <tr>\n",
       "      <th>...</th>\n",
       "      <td>...</td>\n",
       "      <td>...</td>\n",
       "      <td>...</td>\n",
       "      <td>...</td>\n",
       "    </tr>\n",
       "    <tr>\n",
       "      <th>16353</th>\n",
       "      <td>9f8736428d68ef86c654e1f0f0b1058e</td>\n",
       "      <td>translate them</td>\n",
       "      <td>70</td>\n",
       "      <td>C</td>\n",
       "    </tr>\n",
       "    <tr>\n",
       "      <th>16364</th>\n",
       "      <td>9f8736428d68ef86c654e1f0f0b1058e</td>\n",
       "      <td>prepare</td>\n",
       "      <td>59</td>\n",
       "      <td>B</td>\n",
       "    </tr>\n",
       "    <tr>\n",
       "      <th>16373</th>\n",
       "      <td>9f8736428d68ef86c654e1f0f0b1058e</td>\n",
       "      <td>stop for a drink</td>\n",
       "      <td>5</td>\n",
       "      <td>D</td>\n",
       "    </tr>\n",
       "    <tr>\n",
       "      <th>16382</th>\n",
       "      <td>9f8736428d68ef86c654e1f0f0b1058e</td>\n",
       "      <td>get on the bus</td>\n",
       "      <td>42</td>\n",
       "      <td>C</td>\n",
       "    </tr>\n",
       "    <tr>\n",
       "      <th>16393</th>\n",
       "      <td>9f8736428d68ef86c654e1f0f0b1058e</td>\n",
       "      <td>not do surgery</td>\n",
       "      <td>26</td>\n",
       "      <td>C</td>\n",
       "    </tr>\n",
       "  </tbody>\n",
       "</table>\n",
       "<p>1600 rows × 4 columns</p>\n",
       "</div>"
      ],
      "text/plain": [
       "      MD5 hash of participant's IP address             Value  Item Condition\n",
       "7         b8b10c5c32c46a8f278dc868ef65fd9d             drive    24         D\n",
       "18        b8b10c5c32c46a8f278dc868ef65fd9d            cut it    78         B\n",
       "29        b8b10c5c32c46a8f278dc868ef65fd9d             leave    17         C\n",
       "38        b8b10c5c32c46a8f278dc868ef65fd9d              pour    34         B\n",
       "49        b8b10c5c32c46a8f278dc868ef65fd9d          scavenge    44         D\n",
       "...                                    ...               ...   ...       ...\n",
       "16353     9f8736428d68ef86c654e1f0f0b1058e    translate them    70         C\n",
       "16364     9f8736428d68ef86c654e1f0f0b1058e           prepare    59         B\n",
       "16373     9f8736428d68ef86c654e1f0f0b1058e  stop for a drink     5         D\n",
       "16382     9f8736428d68ef86c654e1f0f0b1058e    get on the bus    42         C\n",
       "16393     9f8736428d68ef86c654e1f0f0b1058e    not do surgery    26         C\n",
       "\n",
       "[1600 rows x 4 columns]"
      ]
     },
     "execution_count": 170,
     "metadata": {},
     "output_type": "execute_result"
    }
   ],
   "source": [
    "completions = data[(data['PennElementName'] == 'BlankAnswer') & (data['Parameter'] == 'Final')]\n",
    "completions = completions[[\"MD5 hash of participant's IP address\",'Value','Item','Condition']]\n",
    "completions"
   ]
  },
  {
   "cell_type": "code",
   "execution_count": 171,
   "id": "bb1ca8ab",
   "metadata": {},
   "outputs": [],
   "source": [
    "ips = set(completions[\"MD5 hash of participant's IP address\"])\n",
    "completions_by_subject = {}\n",
    "for ip in ips:\n",
    "    subject_completions = list(completions[completions[\"MD5 hash of participant's IP address\"] == ip]['Value'])\n",
    "    completions_by_subject[ip] = subject_completions\n",
    "    \n",
    "with open(f'{EXPORT_DIRECTORY}/completions_by_subject.txt','w') as f:\n",
    "    for ip in ips:\n",
    "        f.write(f'---{ip}---\\n')\n",
    "        f.write('\\n'.join(completions_by_subject[ip]))\n",
    "        f.write('\\n\\n')"
   ]
  },
  {
   "cell_type": "markdown",
   "id": "179354e5",
   "metadata": {},
   "source": [
    "# Get completions by item"
   ]
  },
  {
   "cell_type": "code",
   "execution_count": 172,
   "id": "1535675c",
   "metadata": {},
   "outputs": [],
   "source": [
    "CONDITIONS = ('A','B','C','D')\n",
    "ITEMS = tuple(range(1,81))"
   ]
  },
  {
   "cell_type": "code",
   "execution_count": 173,
   "id": "bb838e12",
   "metadata": {},
   "outputs": [],
   "source": [
    "with open(f'{EXPORT_DIRECTORY}/completions_by_item.txt','w') as f:\n",
    "    for item in ITEMS:\n",
    "        for condition in CONDITIONS:\n",
    "            item_completions = list(completions[(completions['Condition'] == condition) & (completions['Item'] == item)]['Value'])\n",
    "            f.write(f'---{item}{condition}---\\n')\n",
    "            f.write('\\n'.join(item_completions))\n",
    "            f.write('\\n\\n')"
   ]
  }
 ],
 "metadata": {
  "kernelspec": {
   "display_name": "Python 3 (ipykernel)",
   "language": "python",
   "name": "python3"
  },
  "language_info": {
   "codemirror_mode": {
    "name": "ipython",
    "version": 3
   },
   "file_extension": ".py",
   "mimetype": "text/x-python",
   "name": "python",
   "nbconvert_exporter": "python",
   "pygments_lexer": "ipython3",
   "version": "3.9.13"
  }
 },
 "nbformat": 4,
 "nbformat_minor": 5
}
