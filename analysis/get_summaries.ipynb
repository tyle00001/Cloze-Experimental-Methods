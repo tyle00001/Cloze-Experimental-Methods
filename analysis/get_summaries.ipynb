{
 "cells": [
  {
   "cell_type": "code",
   "execution_count": 67,
   "id": "bb4394da",
   "metadata": {},
   "outputs": [],
   "source": [
    "import pandas as pd"
   ]
  },
  {
   "cell_type": "code",
   "execution_count": 68,
   "id": "c96a624e",
   "metadata": {},
   "outputs": [],
   "source": [
    "# read the experimental data\n",
    "data = pd.read_csv('../data/experimental_data.csv')"
   ]
  },
  {
   "cell_type": "markdown",
   "id": "6817ee6d",
   "metadata": {},
   "source": [
    "# Get the accuracies by subject"
   ]
  },
  {
   "cell_type": "code",
   "execution_count": 126,
   "id": "772c7556",
   "metadata": {},
   "outputs": [
    {
     "name": "stdout",
     "output_type": "stream",
     "text": [
      "      QuestionCorrect\n",
      "Item                 \n",
      "6               False\n",
      "7               False\n",
      "8                True\n",
      "13               True\n",
      "16               True\n",
      "17               True\n",
      "19               True\n",
      "20               True\n",
      "22               True\n",
      "23               True\n",
      "25               True\n",
      "26              False\n",
      "27               True\n",
      "28              False\n",
      "29              False\n",
      "30              False\n",
      "35               True\n",
      "37              False\n",
      "39              False\n",
      "40               True\n",
      "41              False\n",
      "43              False\n",
      "44               True\n",
      "45               True\n",
      "46              False\n",
      "47               True\n",
      "48              False\n",
      "50               True\n",
      "51               True\n",
      "53               True\n",
      "54               True\n",
      "55               True\n",
      "58               True\n",
      "59               True\n",
      "61              False\n",
      "62               True\n",
      "63               True\n",
      "64              False\n",
      "66              False\n",
      "67              False\n",
      "68               True\n",
      "69              False\n",
      "71               True\n",
      "72               True\n",
      "73              False\n",
      "75              False\n",
      "77              False\n",
      "78              False\n"
     ]
    }
   ],
   "source": [
    "# get the correct answers from stimulus list\n",
    "stimuli = pd.read_csv('../stimuli/Stimuli(Sheet1).csv',sep=';')\n",
    "has_comprehension_q = stimuli[~(stimuli['Question'].isnull())]\n",
    "q_answers = has_comprehension_q[['Item','Condition','QuestionCorrect']]\n",
    "q_answers = q_answers[q_answers['Condition'] == 'A'] # since the answer is the same across conditions, keep only A\n",
    "q_answers = q_answers.drop(['Condition'],axis=1)\n",
    "q_answers = q_answers.set_index(['Item']) # reindex by item\n",
    "q_answers = q_answers.replace({\n",
    "    'Yes':True,\n",
    "    'No':False\n",
    "})\n",
    "\n",
    "# also get which items actually have comprehension questions\n",
    "items_w_qs = q_answers.index"
   ]
  },
  {
   "cell_type": "code",
   "execution_count": 118,
   "id": "c6729d34",
   "metadata": {},
   "outputs": [
    {
     "name": "stdout",
     "output_type": "stream",
     "text": [
      "               MD5 hash of participant's IP address Value\n",
      "Item Condition                                           \n",
      "78   B             b8b10c5c32c46a8f278dc868ef65fd9d     D\n",
      "17   C             b8b10c5c32c46a8f278dc868ef65fd9d     K\n",
      "44   D             b8b10c5c32c46a8f278dc868ef65fd9d     K\n",
      "75   A             b8b10c5c32c46a8f278dc868ef65fd9d     K\n",
      "37   C             b8b10c5c32c46a8f278dc868ef65fd9d     D\n",
      "MD5 hash of participant's IP address    b8b10c5c32c46a8f278dc868ef65fd9d\n",
      "Value                                                                  K\n",
      "Name: (17, C), dtype: object\n"
     ]
    }
   ],
   "source": [
    "#get the responses of each participant to comprehension questions\n",
    "comp_resp = data[data['PennElementName'] == 'ComprehensionDecide']\n",
    "comp_resp = comp_resp[comp_resp['Item'].isin(items_w_qs)]\n",
    "comp_resp = comp_resp[[\"MD5 hash of participant's IP address\",'Item','Condition','Value']]\n",
    "comp_resp = comp_resp.set_index(['Item','Condition'])\n",
    "print(comp_resp.head())\n",
    "print(comp_resp.iloc[1])"
   ]
  },
  {
   "cell_type": "code",
   "execution_count": 112,
   "id": "91a17749",
   "metadata": {},
   "outputs": [
    {
     "ename": "MergeError",
     "evalue": "No common columns to perform merge on. Merge options: left_on=None, right_on=None, left_index=False, right_index=False",
     "output_type": "error",
     "traceback": [
      "\u001b[0;31m---------------------------------------------------------------------------\u001b[0m",
      "\u001b[0;31mMergeError\u001b[0m                                Traceback (most recent call last)",
      "\u001b[0;32m/var/folders/6g/v4dn3hc95x1cy5j6qz2c4t6r0000gn/T/ipykernel_22480/474570980.py\u001b[0m in \u001b[0;36m<module>\u001b[0;34m\u001b[0m\n\u001b[0;32m----> 1\u001b[0;31m \u001b[0mfinal\u001b[0m \u001b[0;34m=\u001b[0m \u001b[0mpd\u001b[0m\u001b[0;34m.\u001b[0m\u001b[0mmerge\u001b[0m\u001b[0;34m(\u001b[0m\u001b[0mcomp_resp\u001b[0m\u001b[0;34m,\u001b[0m\u001b[0mq_answers\u001b[0m\u001b[0;34m)\u001b[0m\u001b[0;34m\u001b[0m\u001b[0;34m\u001b[0m\u001b[0m\n\u001b[0m\u001b[1;32m      2\u001b[0m \u001b[0mfinal\u001b[0m\u001b[0;34m.\u001b[0m\u001b[0mshape\u001b[0m\u001b[0;34m\u001b[0m\u001b[0;34m\u001b[0m\u001b[0m\n",
      "\u001b[0;32m~/opt/anaconda3/lib/python3.9/site-packages/pandas/core/reshape/merge.py\u001b[0m in \u001b[0;36mmerge\u001b[0;34m(left, right, how, on, left_on, right_on, left_index, right_index, sort, suffixes, copy, indicator, validate)\u001b[0m\n\u001b[1;32m    105\u001b[0m     \u001b[0mvalidate\u001b[0m\u001b[0;34m:\u001b[0m \u001b[0mstr\u001b[0m \u001b[0;34m|\u001b[0m \u001b[0;32mNone\u001b[0m \u001b[0;34m=\u001b[0m \u001b[0;32mNone\u001b[0m\u001b[0;34m,\u001b[0m\u001b[0;34m\u001b[0m\u001b[0;34m\u001b[0m\u001b[0m\n\u001b[1;32m    106\u001b[0m ) -> DataFrame:\n\u001b[0;32m--> 107\u001b[0;31m     op = _MergeOperation(\n\u001b[0m\u001b[1;32m    108\u001b[0m         \u001b[0mleft\u001b[0m\u001b[0;34m,\u001b[0m\u001b[0;34m\u001b[0m\u001b[0;34m\u001b[0m\u001b[0m\n\u001b[1;32m    109\u001b[0m         \u001b[0mright\u001b[0m\u001b[0;34m,\u001b[0m\u001b[0;34m\u001b[0m\u001b[0;34m\u001b[0m\u001b[0m\n",
      "\u001b[0;32m~/opt/anaconda3/lib/python3.9/site-packages/pandas/core/reshape/merge.py\u001b[0m in \u001b[0;36m__init__\u001b[0;34m(self, left, right, how, on, left_on, right_on, axis, left_index, right_index, sort, suffixes, copy, indicator, validate)\u001b[0m\n\u001b[1;32m    680\u001b[0m             \u001b[0mwarnings\u001b[0m\u001b[0;34m.\u001b[0m\u001b[0mwarn\u001b[0m\u001b[0;34m(\u001b[0m\u001b[0mmsg\u001b[0m\u001b[0;34m,\u001b[0m \u001b[0mFutureWarning\u001b[0m\u001b[0;34m,\u001b[0m \u001b[0mstacklevel\u001b[0m\u001b[0;34m=\u001b[0m\u001b[0mfind_stack_level\u001b[0m\u001b[0;34m(\u001b[0m\u001b[0;34m)\u001b[0m\u001b[0;34m)\u001b[0m\u001b[0;34m\u001b[0m\u001b[0;34m\u001b[0m\u001b[0m\n\u001b[1;32m    681\u001b[0m \u001b[0;34m\u001b[0m\u001b[0m\n\u001b[0;32m--> 682\u001b[0;31m         \u001b[0mself\u001b[0m\u001b[0;34m.\u001b[0m\u001b[0m_validate_specification\u001b[0m\u001b[0;34m(\u001b[0m\u001b[0;34m)\u001b[0m\u001b[0;34m\u001b[0m\u001b[0;34m\u001b[0m\u001b[0m\n\u001b[0m\u001b[1;32m    683\u001b[0m \u001b[0;34m\u001b[0m\u001b[0m\n\u001b[1;32m    684\u001b[0m         \u001b[0mcross_col\u001b[0m \u001b[0;34m=\u001b[0m \u001b[0;32mNone\u001b[0m\u001b[0;34m\u001b[0m\u001b[0;34m\u001b[0m\u001b[0m\n",
      "\u001b[0;32m~/opt/anaconda3/lib/python3.9/site-packages/pandas/core/reshape/merge.py\u001b[0m in \u001b[0;36m_validate_specification\u001b[0;34m(self)\u001b[0m\n\u001b[1;32m   1351\u001b[0m                 \u001b[0mcommon_cols\u001b[0m \u001b[0;34m=\u001b[0m \u001b[0mleft_cols\u001b[0m\u001b[0;34m.\u001b[0m\u001b[0mintersection\u001b[0m\u001b[0;34m(\u001b[0m\u001b[0mright_cols\u001b[0m\u001b[0;34m)\u001b[0m\u001b[0;34m\u001b[0m\u001b[0;34m\u001b[0m\u001b[0m\n\u001b[1;32m   1352\u001b[0m                 \u001b[0;32mif\u001b[0m \u001b[0mlen\u001b[0m\u001b[0;34m(\u001b[0m\u001b[0mcommon_cols\u001b[0m\u001b[0;34m)\u001b[0m \u001b[0;34m==\u001b[0m \u001b[0;36m0\u001b[0m\u001b[0;34m:\u001b[0m\u001b[0;34m\u001b[0m\u001b[0;34m\u001b[0m\u001b[0m\n\u001b[0;32m-> 1353\u001b[0;31m                     raise MergeError(\n\u001b[0m\u001b[1;32m   1354\u001b[0m                         \u001b[0;34m\"No common columns to perform merge on. \"\u001b[0m\u001b[0;34m\u001b[0m\u001b[0;34m\u001b[0m\u001b[0m\n\u001b[1;32m   1355\u001b[0m                         \u001b[0;34mf\"Merge options: left_on={self.left_on}, \"\u001b[0m\u001b[0;34m\u001b[0m\u001b[0;34m\u001b[0m\u001b[0m\n",
      "\u001b[0;31mMergeError\u001b[0m: No common columns to perform merge on. Merge options: left_on=None, right_on=None, left_index=False, right_index=False"
     ]
    }
   ],
   "source": [
    "final = pd.merge(comp_resp,q_answers)\n",
    "final.shape"
   ]
  },
  {
   "cell_type": "markdown",
   "id": "3a85cf3c",
   "metadata": {},
   "source": [
    "# Get completions by subject"
   ]
  },
  {
   "cell_type": "code",
   "execution_count": 52,
   "id": "7e9a7669",
   "metadata": {},
   "outputs": [
    {
     "data": {
      "text/html": [
       "<div>\n",
       "<style scoped>\n",
       "    .dataframe tbody tr th:only-of-type {\n",
       "        vertical-align: middle;\n",
       "    }\n",
       "\n",
       "    .dataframe tbody tr th {\n",
       "        vertical-align: top;\n",
       "    }\n",
       "\n",
       "    .dataframe thead th {\n",
       "        text-align: right;\n",
       "    }\n",
       "</style>\n",
       "<table border=\"1\" class=\"dataframe\">\n",
       "  <thead>\n",
       "    <tr style=\"text-align: right;\">\n",
       "      <th></th>\n",
       "      <th>MD5 hash of participant's IP address</th>\n",
       "      <th>Value</th>\n",
       "      <th>Item</th>\n",
       "      <th>Condition</th>\n",
       "    </tr>\n",
       "  </thead>\n",
       "  <tbody>\n",
       "    <tr>\n",
       "      <th>7</th>\n",
       "      <td>b8b10c5c32c46a8f278dc868ef65fd9d</td>\n",
       "      <td>drive</td>\n",
       "      <td>24</td>\n",
       "      <td>D</td>\n",
       "    </tr>\n",
       "    <tr>\n",
       "      <th>18</th>\n",
       "      <td>b8b10c5c32c46a8f278dc868ef65fd9d</td>\n",
       "      <td>cut it</td>\n",
       "      <td>78</td>\n",
       "      <td>B</td>\n",
       "    </tr>\n",
       "    <tr>\n",
       "      <th>29</th>\n",
       "      <td>b8b10c5c32c46a8f278dc868ef65fd9d</td>\n",
       "      <td>leave</td>\n",
       "      <td>17</td>\n",
       "      <td>C</td>\n",
       "    </tr>\n",
       "    <tr>\n",
       "      <th>38</th>\n",
       "      <td>b8b10c5c32c46a8f278dc868ef65fd9d</td>\n",
       "      <td>pour</td>\n",
       "      <td>34</td>\n",
       "      <td>B</td>\n",
       "    </tr>\n",
       "    <tr>\n",
       "      <th>49</th>\n",
       "      <td>b8b10c5c32c46a8f278dc868ef65fd9d</td>\n",
       "      <td>scavenge</td>\n",
       "      <td>44</td>\n",
       "      <td>D</td>\n",
       "    </tr>\n",
       "    <tr>\n",
       "      <th>...</th>\n",
       "      <td>...</td>\n",
       "      <td>...</td>\n",
       "      <td>...</td>\n",
       "      <td>...</td>\n",
       "    </tr>\n",
       "    <tr>\n",
       "      <th>16353</th>\n",
       "      <td>9f8736428d68ef86c654e1f0f0b1058e</td>\n",
       "      <td>translate them</td>\n",
       "      <td>70</td>\n",
       "      <td>C</td>\n",
       "    </tr>\n",
       "    <tr>\n",
       "      <th>16364</th>\n",
       "      <td>9f8736428d68ef86c654e1f0f0b1058e</td>\n",
       "      <td>prepare</td>\n",
       "      <td>59</td>\n",
       "      <td>B</td>\n",
       "    </tr>\n",
       "    <tr>\n",
       "      <th>16373</th>\n",
       "      <td>9f8736428d68ef86c654e1f0f0b1058e</td>\n",
       "      <td>stop for a drink</td>\n",
       "      <td>5</td>\n",
       "      <td>D</td>\n",
       "    </tr>\n",
       "    <tr>\n",
       "      <th>16382</th>\n",
       "      <td>9f8736428d68ef86c654e1f0f0b1058e</td>\n",
       "      <td>get on the bus</td>\n",
       "      <td>42</td>\n",
       "      <td>C</td>\n",
       "    </tr>\n",
       "    <tr>\n",
       "      <th>16393</th>\n",
       "      <td>9f8736428d68ef86c654e1f0f0b1058e</td>\n",
       "      <td>not do surgery</td>\n",
       "      <td>26</td>\n",
       "      <td>C</td>\n",
       "    </tr>\n",
       "  </tbody>\n",
       "</table>\n",
       "<p>1600 rows × 4 columns</p>\n",
       "</div>"
      ],
      "text/plain": [
       "      MD5 hash of participant's IP address             Value  Item Condition\n",
       "7         b8b10c5c32c46a8f278dc868ef65fd9d             drive    24         D\n",
       "18        b8b10c5c32c46a8f278dc868ef65fd9d            cut it    78         B\n",
       "29        b8b10c5c32c46a8f278dc868ef65fd9d             leave    17         C\n",
       "38        b8b10c5c32c46a8f278dc868ef65fd9d              pour    34         B\n",
       "49        b8b10c5c32c46a8f278dc868ef65fd9d          scavenge    44         D\n",
       "...                                    ...               ...   ...       ...\n",
       "16353     9f8736428d68ef86c654e1f0f0b1058e    translate them    70         C\n",
       "16364     9f8736428d68ef86c654e1f0f0b1058e           prepare    59         B\n",
       "16373     9f8736428d68ef86c654e1f0f0b1058e  stop for a drink     5         D\n",
       "16382     9f8736428d68ef86c654e1f0f0b1058e    get on the bus    42         C\n",
       "16393     9f8736428d68ef86c654e1f0f0b1058e    not do surgery    26         C\n",
       "\n",
       "[1600 rows x 4 columns]"
      ]
     },
     "execution_count": 52,
     "metadata": {},
     "output_type": "execute_result"
    }
   ],
   "source": [
    "completions = data[(data['PennElementName'] == 'BlankAnswer') & (data['Parameter'] == 'Final')]\n",
    "completions = completions[[\"MD5 hash of participant's IP address\",'Value','Item','Condition']]\n",
    "completions"
   ]
  },
  {
   "cell_type": "code",
   "execution_count": 53,
   "id": "96493341",
   "metadata": {},
   "outputs": [],
   "source": [
    "ips = set(completions[\"MD5 hash of participant's IP address\"])\n",
    "completions_by_subject = {}\n",
    "for ip in ips:\n",
    "    subject_completions = list(completions[completions[\"MD5 hash of participant's IP address\"] == ip]['Value'])\n",
    "    completions_by_subject[ip] = subject_completions\n",
    "    \n",
    "with open('../data/completions_by_subject.csv','w') as f:\n",
    "    for ip in ips:\n",
    "        f.write(f'---{ip}---\\n')\n",
    "        f.write('\\n'.join(completions_by_subject[ip]))\n",
    "        f.write('\\n\\n')"
   ]
  },
  {
   "cell_type": "markdown",
   "id": "5a1d01cd",
   "metadata": {},
   "source": [
    "# Get completions by item"
   ]
  },
  {
   "cell_type": "code",
   "execution_count": 54,
   "id": "d42c062f",
   "metadata": {},
   "outputs": [],
   "source": [
    "CONDITIONS = ('A','B','C','D')\n",
    "ITEMS = tuple(range(1,81))"
   ]
  },
  {
   "cell_type": "code",
   "execution_count": 63,
   "id": "49cf7ca3",
   "metadata": {},
   "outputs": [],
   "source": [
    "with open('../data/completions_by_item.csv','w') as f:\n",
    "    for item in ITEMS:\n",
    "        for condition in CONDITIONS:\n",
    "            item_completions = list(completions[(completions['Condition'] == condition) & (completions['Item'] == item)]['Value'])\n",
    "            f.write(f'---{item}{condition}---\\n')\n",
    "            f.write('\\n'.join(item_completions))\n",
    "            f.write('\\n\\n')"
   ]
  }
 ],
 "metadata": {
  "kernelspec": {
   "display_name": "Python 3 (ipykernel)",
   "language": "python",
   "name": "python3"
  },
  "language_info": {
   "codemirror_mode": {
    "name": "ipython",
    "version": 3
   },
   "file_extension": ".py",
   "mimetype": "text/x-python",
   "name": "python",
   "nbconvert_exporter": "python",
   "pygments_lexer": "ipython3",
   "version": "3.9.13"
  }
 },
 "nbformat": 4,
 "nbformat_minor": 5
}
