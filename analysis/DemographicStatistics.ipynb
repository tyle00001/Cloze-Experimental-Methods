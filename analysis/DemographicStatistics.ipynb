{
 "cells": [
  {
   "cell_type": "code",
   "execution_count": 1,
   "id": "a37936bd",
   "metadata": {},
   "outputs": [],
   "source": [
    "import pandas as pd"
   ]
  },
  {
   "cell_type": "code",
   "execution_count": 34,
   "id": "fa3ea9c3",
   "metadata": {},
   "outputs": [],
   "source": [
    "EXCLUDED = (\n",
    "    '4f1511992b86c3d28f958bcbf4d56511',\n",
    "    '3028e7887ad94e66d4f5fe907c30cc88',\n",
    "    '61f3559549de508d322e493e3c8fe90c'\n",
    ") # the excluded participants' IP has"
   ]
  },
  {
   "cell_type": "code",
   "execution_count": 35,
   "id": "a8054d91",
   "metadata": {},
   "outputs": [],
   "source": [
    "with open('../data/ClozeData(in).csv') as f:\n",
    "    demographic_lines = [line.split(',') for line in f.readlines() if ',Html,demographics,' in line]"
   ]
  },
  {
   "cell_type": "code",
   "execution_count": 40,
   "id": "05b1fda1",
   "metadata": {},
   "outputs": [],
   "source": [
    "demographics = pd.DataFrame(demographic_lines) # ALL participants\n",
    "demographics_excluded = demographics[~demographics.iloc[:,1].isin(EXCLUDED)]"
   ]
  },
  {
   "cell_type": "markdown",
   "id": "7c2cd4d2",
   "metadata": {},
   "source": [
    "## Age"
   ]
  },
  {
   "cell_type": "code",
   "execution_count": 32,
   "id": "22a31e1c",
   "metadata": {},
   "outputs": [
    {
     "data": {
      "text/plain": [
       "count    20.000000\n",
       "mean     32.350000\n",
       "std       5.860438\n",
       "min      19.000000\n",
       "25%      28.000000\n",
       "50%      33.000000\n",
       "75%      37.250000\n",
       "max      41.000000\n",
       "Name: 10, dtype: float64"
      ]
     },
     "execution_count": 32,
     "metadata": {},
     "output_type": "execute_result"
    }
   ],
   "source": [
    "# with the excluded participants\n",
    "pd.to_numeric(demographics[demographics.iloc[:,9] == 'Age'].iloc[:,10]).describe()"
   ]
  },
  {
   "cell_type": "code",
   "execution_count": 43,
   "id": "ce4252d5",
   "metadata": {},
   "outputs": [
    {
     "data": {
      "text/plain": [
       "count    17.000000\n",
       "mean     32.411765\n",
       "std       6.265569\n",
       "min      19.000000\n",
       "25%      28.000000\n",
       "50%      32.000000\n",
       "75%      38.000000\n",
       "max      41.000000\n",
       "Name: 10, dtype: float64"
      ]
     },
     "execution_count": 43,
     "metadata": {},
     "output_type": "execute_result"
    }
   ],
   "source": [
    "# without the excluded participants\n",
    "pd.to_numeric(demographics_excluded[demographics_excluded.iloc[:,9] == 'Age'].iloc[:,10]).describe()"
   ]
  },
  {
   "cell_type": "markdown",
   "id": "b72e01ac",
   "metadata": {},
   "source": [
    "## Native Language"
   ]
  },
  {
   "cell_type": "code",
   "execution_count": 45,
   "id": "b5d7d76d",
   "metadata": {},
   "outputs": [
    {
     "data": {
      "text/plain": [
       "{'ENGLISH', 'English', 'english'}"
      ]
     },
     "execution_count": 45,
     "metadata": {},
     "output_type": "execute_result"
    }
   ],
   "source": [
    "set(demographics[demographics.iloc[:,9] == 'Native_language'].iloc[:,10])"
   ]
  },
  {
   "cell_type": "markdown",
   "id": "3c19a07f",
   "metadata": {},
   "source": [
    "## Gender"
   ]
  },
  {
   "cell_type": "code",
   "execution_count": 48,
   "id": "9e64ce21",
   "metadata": {},
   "outputs": [
    {
     "data": {
      "text/plain": [
       "male      0.65\n",
       "female    0.30\n",
       "NA        0.05\n",
       "Name: 10, dtype: float64"
      ]
     },
     "execution_count": 48,
     "metadata": {},
     "output_type": "execute_result"
    }
   ],
   "source": [
    "# with\n",
    "gender_all = demographics[demographics.iloc[:,9] == 'gender'].iloc[:,10]\n",
    "gender_all.value_counts() / len(gender_all)"
   ]
  },
  {
   "cell_type": "code",
   "execution_count": 47,
   "id": "538687c5",
   "metadata": {},
   "outputs": [
    {
     "data": {
      "text/plain": [
       "male      0.705882\n",
       "female    0.235294\n",
       "NA        0.058824\n",
       "Name: 10, dtype: float64"
      ]
     },
     "execution_count": 47,
     "metadata": {},
     "output_type": "execute_result"
    }
   ],
   "source": [
    "# without\n",
    "gender = demographics_excluded[demographics_excluded.iloc[:,9] == 'gender'].iloc[:,10]\n",
    "gender.value_counts() / len(gender)"
   ]
  },
  {
   "cell_type": "code",
   "execution_count": 51,
   "id": "6f5644fe",
   "metadata": {},
   "outputs": [
    {
     "data": {
      "text/plain": [
       "male      12\n",
       "female     4\n",
       "NA         1\n",
       "Name: 10, dtype: int64"
      ]
     },
     "execution_count": 51,
     "metadata": {},
     "output_type": "execute_result"
    }
   ],
   "source": [
    "gender.value_counts()"
   ]
  }
 ],
 "metadata": {
  "kernelspec": {
   "display_name": "Python 3 (ipykernel)",
   "language": "python",
   "name": "python3"
  },
  "language_info": {
   "codemirror_mode": {
    "name": "ipython",
    "version": 3
   },
   "file_extension": ".py",
   "mimetype": "text/x-python",
   "name": "python",
   "nbconvert_exporter": "python",
   "pygments_lexer": "ipython3",
   "version": "3.9.13"
  }
 },
 "nbformat": 4,
 "nbformat_minor": 5
}
